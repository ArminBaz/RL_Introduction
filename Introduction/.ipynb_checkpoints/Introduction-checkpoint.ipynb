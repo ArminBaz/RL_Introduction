{
 "cells": [
  {
   "cell_type": "markdown",
   "metadata": {},
   "source": [
    "# Introduction to RL:\n",
    "## Familiarizing myself with OpenAI's Gym"
   ]
  },
  {
   "cell_type": "markdown",
   "metadata": {},
   "source": [
    "This notebook is meant to serve as a \"look up guide\" of sorts for myself when I inevitably forget how gym works and how to access certain parts of it that I might need.\n",
    "<br>\n",
    "<br>\n",
    "I am following along [here](https://gym.openai.com/docs/)"
   ]
  },
  {
   "cell_type": "markdown",
   "metadata": {},
   "source": [
    "<br>"
   ]
  },
  {
   "cell_type": "code",
   "execution_count": 3,
   "metadata": {},
   "outputs": [],
   "source": [
    "# First import gym\n",
    "import gym"
   ]
  },
  {
   "cell_type": "markdown",
   "metadata": {},
   "source": [
    "### Environments:\n",
    "Environments are the cornerstone of gym, they are, in essence, the entire reason openai decided to make this public. All of the available environments can be found [here](https://gym.openai.com/envs/#classic_control)\n",
    "<br>\n",
    "<br>\n",
    "Environments are all hosted within their envs module"
   ]
  },
  {
   "cell_type": "code",
   "execution_count": 4,
   "metadata": {},
   "outputs": [],
   "source": [
    "# even though I already imported gym I'll import the envs module to make it easier to understand\n",
    "from gym import envs"
   ]
  },
  {
   "cell_type": "code",
   "execution_count": 7,
   "metadata": {},
   "outputs": [],
   "source": [
    "# we can list out all of the available envs\n",
    "#print(envs.registry.all())"
   ]
  },
  {
   "cell_type": "code",
   "execution_count": 21,
   "metadata": {},
   "outputs": [],
   "source": [
    "# you can then use any of these environments by running gym.make\n",
    "env = gym.make('CartPole-v1')"
   ]
  },
  {
   "cell_type": "markdown",
   "metadata": {},
   "source": [
    "There are 3 main methods to know of the env\n",
    "1. reset(self): Reset the environment's state. Returns observation.\n",
    "2. step(self, action): Step the environment by one timestep. Returns observation, reward, done, info.\n",
    "3. render(self, mode='human'): Render one frame of the environment. The default mode will do something human friendly, such as pop up a window."
   ]
  },
  {
   "cell_type": "markdown",
   "metadata": {},
   "source": [
    "<br>"
   ]
  },
  {
   "cell_type": "markdown",
   "metadata": {},
   "source": [
    "### Spaces:\n",
    "Before I continue it is useful to understand what the two different spaces are.\n",
    "1. Action Space\n",
    "2. Observation Space\n",
    "Every environment has one of these two spaces.\n",
    "\n",
    "The most common are **discrete** which is a fixed range of non-negative numbers, and **box** which is an n-dimensional box used for multidimensional continuous spaces with bounds."
   ]
  },
  {
   "cell_type": "markdown",
   "metadata": {},
   "source": [
    "So, in layman's terms. The box defines n dimensions of terms that have bounds. For example, in cartpole we have the first dimension being the cart's position which is between [-2.4, 2.4] while the second dimension is the cart's velocity which is between [-inf, inf]"
   ]
  },
  {
   "cell_type": "code",
   "execution_count": 22,
   "metadata": {},
   "outputs": [],
   "source": [
    "# Lets look at the two spaces in our sample env\n",
    "action_space = env.action_space\n",
    "observation_space = env.observation_space"
   ]
  },
  {
   "cell_type": "code",
   "execution_count": 23,
   "metadata": {},
   "outputs": [
    {
     "name": "stdout",
     "output_type": "stream",
     "text": [
      "Discrete(2)\n",
      "Box(4,)\n"
     ]
    }
   ],
   "source": [
    "print(action_space)\n",
    "print(observation_space)"
   ]
  },
  {
   "cell_type": "code",
   "execution_count": 24,
   "metadata": {},
   "outputs": [
    {
     "name": "stdout",
     "output_type": "stream",
     "text": [
      "[4.8000002e+00 3.4028235e+38 4.1887903e-01 3.4028235e+38]\n",
      "[-4.8000002e+00 -3.4028235e+38 -4.1887903e-01 -3.4028235e+38]\n"
     ]
    }
   ],
   "source": [
    "# We can get an idea of our observation spaces bounds by printing out the high's and lows\n",
    "print(observation_space.high)\n",
    "print(observation_space.low)"
   ]
  },
  {
   "cell_type": "code",
   "execution_count": 31,
   "metadata": {},
   "outputs": [
    {
     "name": "stdout",
     "output_type": "stream",
     "text": [
      "1\n"
     ]
    }
   ],
   "source": [
    "# We can sample the action_space for a random action, lets see what happens (should be either 0 or 1)\n",
    "random_action = action_space.sample()\n",
    "print(random_action)"
   ]
  },
  {
   "cell_type": "markdown",
   "metadata": {},
   "source": [
    "<br>"
   ]
  },
  {
   "cell_type": "markdown",
   "metadata": {},
   "source": [
    "### Step function for environment:\n",
    "The step method is arguably the most important. It contains all of the information our agent will need in order to actually be able to learn from it's environment and make educated decisions\n",
    "<br>\n",
    "<br>\n",
    "The step method takes as input an action and returns a tuple (observation, reward, done, info).\n",
    "- Observation (object): An environment-specific object representing your observation of the environment.\n",
    "- Reward (float): Amount of reward achieved by the previous action.\n",
    "- Done (boolean): Whether it’s time to reset the environment again.\n",
    "- Info (dict): Diagnostic information useful for debugging."
   ]
  },
  {
   "cell_type": "code",
   "execution_count": 34,
   "metadata": {},
   "outputs": [],
   "source": [
    "# lets use the random action from the previous cell to take a step so we can look at each of these individually\n",
    "observation = env.reset()\n",
    "new_observation, reward, done, info = env.step(random_action)"
   ]
  },
  {
   "cell_type": "code",
   "execution_count": null,
   "metadata": {},
   "outputs": [],
   "source": []
  }
 ],
 "metadata": {
  "kernelspec": {
   "display_name": "Python 3",
   "language": "python",
   "name": "python3"
  },
  "language_info": {
   "codemirror_mode": {
    "name": "ipython",
    "version": 3
   },
   "file_extension": ".py",
   "mimetype": "text/x-python",
   "name": "python",
   "nbconvert_exporter": "python",
   "pygments_lexer": "ipython3",
   "version": "3.7.4"
  }
 },
 "nbformat": 4,
 "nbformat_minor": 4
}
