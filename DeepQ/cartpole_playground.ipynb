{
 "cells": [
  {
   "cell_type": "code",
   "execution_count": 6,
   "metadata": {},
   "outputs": [],
   "source": [
    "import gym\n",
    "import numpy as np\n",
    "import tensorflow as tf\n",
    "import matplotlib.pyplot as plt\n",
    "import tensorflow.keras as K\n",
    "from collections import deque\n",
    "import random"
   ]
  },
  {
   "cell_type": "code",
   "execution_count": 7,
   "metadata": {},
   "outputs": [],
   "source": [
    "env = gym.make('CartPole-v1')"
   ]
  },
  {
   "cell_type": "code",
   "execution_count": 8,
   "metadata": {},
   "outputs": [
    {
     "name": "stdout",
     "output_type": "stream",
     "text": [
      "Discrete(2)\n",
      "Box(4,)\n"
     ]
    }
   ],
   "source": [
    "print(env.action_space)\n",
    "print(env.observation_space)"
   ]
  },
  {
   "cell_type": "code",
   "execution_count": 9,
   "metadata": {},
   "outputs": [
    {
     "name": "stdout",
     "output_type": "stream",
     "text": [
      "4\n",
      "2\n"
     ]
    }
   ],
   "source": [
    "state_size = env.observation_space.shape[0]\n",
    "action_size = env.action_space.n\n",
    "\n",
    "print(state_size)\n",
    "print(action_size)"
   ]
  },
  {
   "cell_type": "markdown",
   "metadata": {},
   "source": [
    "From above we can see that there are two actions that can be taken, thus the model must have two outputs.\n",
    "\n",
    "We can also see that each state is defined by 4 features, thus our input size is 4."
   ]
  },
  {
   "cell_type": "code",
   "execution_count": 10,
   "metadata": {},
   "outputs": [],
   "source": [
    "# Create the model\n",
    "DQN_model = K.models.Sequential()\n",
    "DQN_model.add(K.layers.Dense(32, input_dim=state_size, activation='relu'))\n",
    "DQN_model.add(K.layers.Dense(32, activation='relu'))\n",
    "DQN_model.add(K.layers.Dense(action_size, activation='linear'))\n",
    "DQN_model.compile(loss='mse', optimizer=K.optimizers.Adam(lr=0.001))"
   ]
  },
  {
   "cell_type": "code",
   "execution_count": 11,
   "metadata": {},
   "outputs": [],
   "source": [
    "# DQN Agent Class\n",
    "class DQN_Agent():\n",
    "    def __init__(self, state_size, action_size, model):\n",
    "        self.memory             = deque(maxlen=2000)\n",
    "        self.learning_rate      = 0.001\n",
    "        self.gamma              = 0.95\n",
    "        self.exploration_rate   = 1.0\n",
    "        self.exploration_min    = 0.01\n",
    "        self.exploration_decay  = 0.995\n",
    "        self.state_size = state_size\n",
    "        self.action_size = action_size\n",
    "        self.model = model\n",
    "    \n",
    "    def act(self, state):\n",
    "        if np.random.rand() <= self.exploration_rate:\n",
    "            return random.randrange(self.action_size)\n",
    "        act_values = self.model.predict(state)\n",
    "        return np.argmax(act_values[0])\n",
    "    \n",
    "    def remember(self, state, action, reward, next_state, done):\n",
    "        self.memory.append((state, action, reward, next_state, done))\n",
    "        \n",
    "    def replay(self, sample_batch_size):\n",
    "        if len(self.memory) < sample_batch_size:\n",
    "            return\n",
    "        \n",
    "        sample_batch = random.sample(self.memory, sample_batch_size)\n",
    "        \n",
    "        for state, action, reward, next_state, done in sample_batch:\n",
    "            target = reward\n",
    "            if not done:\n",
    "                target = reward + self.gamma * np.amax(self.model.predict(next_state)[0])\n",
    "            target_f = self.model.predict(state)\n",
    "            target_f[0][action] = target\n",
    "            self.model.fit(state, target_f, epochs=1, verbose=0)\n",
    "            \n",
    "        if self.exploration_rate > self.exploration_min:\n",
    "            self.exploration_rate *= self.exploration_decay"
   ]
  },
  {
   "cell_type": "code",
   "execution_count": 12,
   "metadata": {},
   "outputs": [
    {
     "name": "stdout",
     "output_type": "stream",
     "text": [
      "Episode 0 Score: 28\n",
      "Episode 1 Score: 28\n",
      "Episode 2 Score: 43\n",
      "Episode 3 Score: 17\n",
      "Episode 4 Score: 12\n",
      "Episode 5 Score: 26\n",
      "Episode 6 Score: 19\n",
      "Episode 7 Score: 56\n",
      "Episode 8 Score: 13\n",
      "Episode 9 Score: 11\n",
      "Episode 10 Score: 11\n",
      "Episode 11 Score: 24\n",
      "Episode 12 Score: 35\n",
      "Episode 13 Score: 15\n",
      "Episode 14 Score: 11\n",
      "Episode 15 Score: 26\n",
      "Episode 16 Score: 39\n",
      "Episode 17 Score: 19\n",
      "Episode 18 Score: 33\n",
      "Episode 19 Score: 16\n"
     ]
    }
   ],
   "source": [
    "sample_batch_size = 32\n",
    "episodes = 500\n",
    "agent = DQN_Agent(state_size, action_size, DQN_model)\n",
    "\n",
    "episode_list = []\n",
    "score_list = []\n",
    "\n",
    "# Train the agent\n",
    "for index_episode in range(episodes):\n",
    "    state = env.reset()\n",
    "    state = np.reshape(state, [1, state_size])\n",
    "    done = False\n",
    "    index = 0\n",
    "    while not done:\n",
    "        action = agent.act(state)\n",
    "        next_state, reward, done, _ = env.step(action)\n",
    "        next_state = np.reshape(next_state, [1, state_size])\n",
    "        agent.remember(state, action, reward, next_state, done)\n",
    "        state = next_state\n",
    "        index += 1\n",
    "    \n",
    "    # start rendering the last few episodes\n",
    "    if index_episode >= (episodes-20):\n",
    "        env.render()\n",
    "    \n",
    "    print(\"Episode {} Score: {}\".format(index_episode, index + 1))\n",
    "    episode_list.append(index_episode)\n",
    "    score_list.append(index+1)\n",
    "    \n",
    "    agent.replay(sample_batch_size)"
   ]
  },
  {
   "cell_type": "code",
   "execution_count": 13,
   "metadata": {},
   "outputs": [
    {
     "data": {
      "text/plain": [
       "Text(0.5, 0, 'Episode')"
      ]
     },
     "execution_count": 13,
     "metadata": {},
     "output_type": "execute_result"
    },
    {
     "data": {
      "image/png": "[encoded data removed]",
      "text/plain": [
       "<Figure size 432x288 with 1 Axes>"
      ]
     },
     "metadata": {
      "needs_background": "light"
     },
     "output_type": "display_data"
    }
   ],
   "source": [
    "# Graph\n",
    "plt.plot(episode_list, score_list)\n",
    "plt.ylabel('Score')\n",
    "plt.xlabel('Episode')"
   ]
  },
  {
   "cell_type": "code",
   "execution_count": null,
   "metadata": {},
   "outputs": [],
   "source": []
  }
 ],
 "metadata": {
  "kernelspec": {
   "display_name": "Python 3",
   "language": "python",
   "name": "python3"
  },
  "language_info": {
   "codemirror_mode": {
    "name": "ipython",
    "version": 3
   },
   "file_extension": ".py",
   "mimetype": "text/x-python",
   "name": "python",
   "nbconvert_exporter": "python",
   "pygments_lexer": "ipython3",
   "version": "3.7.7"
  }
 },
 "nbformat": 4,
 "nbformat_minor": 4
}
